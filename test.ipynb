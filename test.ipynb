{
 "cells": [
  {
   "cell_type": "code",
   "execution_count": 1,
   "metadata": {},
   "outputs": [],
   "source": [
    "import torch\n",
    "import torch.nn as nn\n",
    "from src.utils.layers.dran_attn import DRAN\n",
    "from src.utils.layers.cbam import CBAM"
   ]
  },
  {
   "cell_type": "code",
   "execution_count": 2,
   "metadata": {},
   "outputs": [],
   "source": [
    "latent = torch.rand(4,128, 16, 16)\n",
    "\n",
    "dran = DRAN(128)\n",
    "cbam = CBAM(128)"
   ]
  },
  {
   "cell_type": "code",
   "execution_count": 3,
   "metadata": {},
   "outputs": [
    {
     "data": {
      "text/plain": [
       "2284"
      ]
     },
     "execution_count": 3,
     "metadata": {},
     "output_type": "execute_result"
    }
   ],
   "source": [
    "sum(p.numel() for p in cbam.parameters() if p.requires_grad)"
   ]
  },
  {
   "cell_type": "code",
   "execution_count": 5,
   "metadata": {},
   "outputs": [
    {
     "data": {
      "text/plain": [
       "==========================================================================================\n",
       "Layer (type:depth-idx)                   Output Shape              Param #\n",
       "==========================================================================================\n",
       "CBAM                                     [4, 512, 16, 16]          --\n",
       "├─ChannelGate: 1-1                       [4, 512, 16, 16]          --\n",
       "│    └─Sequential: 2-1                   [4, 512]                  --\n",
       "│    │    └─Flatten: 3-1                 [4, 512]                  --\n",
       "│    │    └─Linear: 3-2                  [4, 32]                   16,416\n",
       "│    │    └─ReLU: 3-3                    [4, 32]                   --\n",
       "│    │    └─Linear: 3-4                  [4, 512]                  16,896\n",
       "│    └─Sequential: 2-2                   [4, 512]                  (recursive)\n",
       "│    │    └─Flatten: 3-5                 [4, 512]                  --\n",
       "│    │    └─Linear: 3-6                  [4, 32]                   (recursive)\n",
       "│    │    └─ReLU: 3-7                    [4, 32]                   --\n",
       "│    │    └─Linear: 3-8                  [4, 512]                  (recursive)\n",
       "├─SpatialGate: 1-2                       [4, 512, 16, 16]          --\n",
       "│    └─ChannelPool: 2-3                  [4, 2, 16, 16]            --\n",
       "│    └─BasicConv: 2-4                    [4, 1, 16, 16]            --\n",
       "│    │    └─Conv2d: 3-9                  [4, 1, 16, 16]            98\n",
       "│    │    └─BatchNorm2d: 3-10            [4, 1, 16, 16]            2\n",
       "==========================================================================================\n",
       "Total params: 33,412\n",
       "Trainable params: 33,412\n",
       "Non-trainable params: 0\n",
       "Total mult-adds (M): 0.37\n",
       "==========================================================================================\n",
       "Input size (MB): 2.10\n",
       "Forward/backward pass size (MB): 0.05\n",
       "Params size (MB): 0.13\n",
       "Estimated Total Size (MB): 2.28\n",
       "=========================================================================================="
      ]
     },
     "execution_count": 5,
     "metadata": {},
     "output_type": "execute_result"
    }
   ],
   "source": [
    "from torchinfo import summary\n",
    "cbam = CBAM(512)\n",
    "summary(cbam, (4,512, 16, 16))"
   ]
  },
  {
   "cell_type": "code",
   "execution_count": 8,
   "metadata": {},
   "outputs": [
    {
     "data": {
      "text/plain": [
       "torch.Size([4, 128, 16, 16])"
      ]
     },
     "execution_count": 8,
     "metadata": {},
     "output_type": "execute_result"
    }
   ],
   "source": [
    "dran(latent).shape"
   ]
  }
 ],
 "metadata": {
  "kernelspec": {
   "display_name": "base",
   "language": "python",
   "name": "python3"
  },
  "language_info": {
   "codemirror_mode": {
    "name": "ipython",
    "version": 3
   },
   "file_extension": ".py",
   "mimetype": "text/x-python",
   "name": "python",
   "nbconvert_exporter": "python",
   "pygments_lexer": "ipython3",
   "version": "3.10.8"
  }
 },
 "nbformat": 4,
 "nbformat_minor": 2
}
