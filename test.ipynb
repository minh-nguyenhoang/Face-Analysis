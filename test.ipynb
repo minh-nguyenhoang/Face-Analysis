{
 "cells": [
  {
   "cell_type": "code",
<<<<<<< HEAD
<<<<<<< HEAD
<<<<<<< HEAD
=======
>>>>>>> 6d956b3 (add main.py and train.py)
=======
>>>>>>> ed26809 (add main.py and train.py)
   "execution_count": 3,
   "metadata": {},
   "outputs": [],
   "source": [
    "from src.models.bionet import BioNet\n",
    "import torch\n",
    "import torch.nn as nn\n",
    "import timm"
   ]
  },
  {
   "cell_type": "code",
   "execution_count": 4,
   "metadata": {},
   "outputs": [
    {
     "name": "stdout",
     "output_type": "stream",
     "text": [
      "(tensor([[0.8456, 0.0426, 0.9834, 0.9426, 0.3180],\n",
      "        [0.8449, 0.0419, 0.9826, 0.9419, 0.3172]], grad_fn=<AddBackward0>), tensor([[ 0.0475, -0.0702,  1.0875],\n",
      "        [ 0.0506, -0.0733,  1.1030]], grad_fn=<AddmmBackward0>), tensor([[-0.3149],\n",
      "        [-0.3168]], grad_fn=<AddmmBackward0>), tensor([[0.5014],\n",
      "        [0.5187]], grad_fn=<AddmmBackward0>), tensor([[ 0.0485,  1.0567,  0.6083, -0.6420,  0.0715],\n",
      "        [ 0.0321,  1.0588,  0.6073, -0.6423,  0.0688]],\n",
      "       grad_fn=<AddmmBackward0>), tensor([[ 0.3181, -0.5959,  0.3026],\n",
      "        [ 0.3097, -0.5923,  0.2943]], grad_fn=<AddmmBackward0>))\n"
<<<<<<< HEAD
<<<<<<< HEAD
=======
   "execution_count": 5,
   "metadata": {},
   "outputs": [
    {
     "ename": "TypeError",
     "evalue": "BioNet.__init__() missing 2 required positional arguments: 'backbone' and 'in_channels'",
     "output_type": "error",
     "traceback": [
      "\u001b[1;31m---------------------------------------------------------------------------\u001b[0m",
      "\u001b[1;31mTypeError\u001b[0m                                 Traceback (most recent call last)",
      "\u001b[1;32mc:\\Users\\ADMIN\\Desktop\\Learn\\Face-Analysis\\test.ipynb Cell 1\u001b[0m line \u001b[0;36m<cell line: 6>\u001b[1;34m()\u001b[0m\n\u001b[0;32m      <a href='vscode-notebook-cell:/c%3A/Users/ADMIN/Desktop/Learn/Face-Analysis/test.ipynb#W0sZmlsZQ%3D%3D?line=1'>2</a>\u001b[0m bionet \u001b[39m=\u001b[39m importlib\u001b[39m.\u001b[39mimport_module(\u001b[39m\"\u001b[39m\u001b[39msrc.models.bionet\u001b[39m\u001b[39m\"\u001b[39m)\n\u001b[0;32m      <a href='vscode-notebook-cell:/c%3A/Users/ADMIN/Desktop/Learn/Face-Analysis/test.ipynb#W0sZmlsZQ%3D%3D?line=2'>3</a>\u001b[0m bionet \u001b[39m=\u001b[39m importlib\u001b[39m.\u001b[39mreload(bionet)\n\u001b[1;32m----> <a href='vscode-notebook-cell:/c%3A/Users/ADMIN/Desktop/Learn/Face-Analysis/test.ipynb#W0sZmlsZQ%3D%3D?line=5'>6</a>\u001b[0m net \u001b[39m=\u001b[39m bionet\u001b[39m.\u001b[39;49mBioNet()\n",
      "\u001b[1;31mTypeError\u001b[0m: BioNet.__init__() missing 2 required positional arguments: 'backbone' and 'in_channels'"
>>>>>>> 5e5bace (add dataset loader)
=======
>>>>>>> 6d956b3 (add main.py and train.py)
=======
>>>>>>> ed26809 (add main.py and train.py)
     ]
    }
   ],
   "source": [
<<<<<<< HEAD
<<<<<<< HEAD
<<<<<<< HEAD
=======
>>>>>>> 6d956b3 (add main.py and train.py)
=======
>>>>>>> ed26809 (add main.py and train.py)
    "x = torch.randn((2,3,224,224))\n",
    "backbone = timm.create_model('convnext_base.clip_laiona_augreg_ft_in1k_384', pretrained=True)\n",
    "backbone.head = nn.Identity()\n",
    "model = BioNet(backbone=backbone, in_channels=1024)\n",
    "print(model(x))"
<<<<<<< HEAD
<<<<<<< HEAD
=======
    "import importlib\n",
    "bionet = importlib.import_module(\"src.models.bionet\")\n",
    "bionet = importlib.reload(bionet)\n",
    "\n",
    "\n",
    "net = bionet.BioNet()"
>>>>>>> 5e5bace (add dataset loader)
=======
>>>>>>> 6d956b3 (add main.py and train.py)
=======
>>>>>>> ed26809 (add main.py and train.py)
   ]
  },
  {
   "cell_type": "code",
   "execution_count": null,
   "metadata": {},
   "outputs": [],
   "source": []
  }
 ],
 "metadata": {
  "kernelspec": {
   "display_name": "Python 3",
   "language": "python",
   "name": "python3"
  },
  "language_info": {
   "codemirror_mode": {
    "name": "ipython",
    "version": 3
   },
   "file_extension": ".py",
   "mimetype": "text/x-python",
   "name": "python",
   "nbconvert_exporter": "python",
   "pygments_lexer": "ipython3",
<<<<<<< HEAD
<<<<<<< HEAD
<<<<<<< HEAD
   "version": "3.9.1"
=======
   "version": "3.10.4"
>>>>>>> 5e5bace (add dataset loader)
=======
   "version": "3.9.1"
>>>>>>> 6d956b3 (add main.py and train.py)
=======
   "version": "3.9.1"
>>>>>>> ed26809 (add main.py and train.py)
  }
 },
 "nbformat": 4,
 "nbformat_minor": 2
}
